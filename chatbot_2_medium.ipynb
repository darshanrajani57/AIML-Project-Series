{
 "cells": [
  {
   "cell_type": "code",
   "execution_count": 1,
   "id": "10ba5ac8",
   "metadata": {},
   "outputs": [
    {
     "name": "stdout",
     "output_type": "stream",
     "text": [
      "Please enter your name: darshan\n",
      "Hello, darshan! How can I assist you with your college admission queries today?\n",
      "Please ask your admission related query or type 'bye' to end the session.\n",
      "procedures\n",
      "The admission procedures include filling out an application form, submitting required documents, and attending an interview.\n",
      "Please ask your admission related query or type 'bye' to end the session.\n",
      "bye\n",
      "Goodbye, darshan! Good luck with your college admission process!\n"
     ]
    }
   ],
   "source": [
    "class Admission:\n",
    "    def __init__(self):\n",
    "        self.user_name = \"\"\n",
    "        self.previous_messages = []\n",
    "        self.admission_info = {\n",
    "            \"procedures\": \"The admission procedures include filling out an application form, submitting required documents, and attending an interview.\",\n",
    "            \"requirements\": \"The requirements for admission include a high school diploma, recommendation letters, and standardized test scores.\",\n",
    "            \"deadlines\": \"The application deadline is usually in the spring, but it can vary depending on the college.\"\n",
    "        }\n",
    "\n",
    "    def greeting(self):\n",
    "        return f\"Hello, {self.user_name}! How can I assist you with your college admission queries today?\"\n",
    "\n",
    "    def farewell(self):\n",
    "        return f\"Goodbye, {self.user_name}! Good luck with your college admission process!\"\n",
    "\n",
    "    def respond_to_user(self, user_input):\n",
    "        if user_input in self.admission_info:\n",
    "            return self.admission_info[user_input]\n",
    "        else:\n",
    "            return \"I'm sorry, I didn't understand that. Could you please rephrase or ask another question?\"\n",
    "\n",
    "    def chat(self):\n",
    "        self.user_name = input(\"Please enter your name: \")\n",
    "        print(self.greeting())\n",
    "        while True:\n",
    "            print(\"Please ask your admission related query or type 'bye' to end the session.\")\n",
    "            user_input = input()\n",
    "            if user_input.lower() == \"bye\":\n",
    "                print(self.farewell())\n",
    "                break\n",
    "            else:\n",
    "                response = self.respond_to_user(user_input)\n",
    "                print(response)\n",
    "                self.previous_messages.append((user_input, response))\n",
    "\n",
    "bot = Admission()\n",
    "bot.chat()\n"
   ]
  },
  {
   "cell_type": "code",
   "execution_count": null,
   "id": "31c8a31b",
   "metadata": {},
   "outputs": [],
   "source": []
  }
 ],
 "metadata": {
  "kernelspec": {
   "display_name": "Python 3 (ipykernel)",
   "language": "python",
   "name": "python3"
  },
  "language_info": {
   "codemirror_mode": {
    "name": "ipython",
    "version": 3
   },
   "file_extension": ".py",
   "mimetype": "text/x-python",
   "name": "python",
   "nbconvert_exporter": "python",
   "pygments_lexer": "ipython3",
   "version": "3.10.9"
  }
 },
 "nbformat": 4,
 "nbformat_minor": 5
}
