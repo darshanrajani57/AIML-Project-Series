{
 "cells": [
  {
   "cell_type": "code",
   "execution_count": 1,
   "id": "5a1629ad",
   "metadata": {},
   "outputs": [
    {
     "name": "stdout",
     "output_type": "stream",
     "text": [
      "Hello! I'm a chatbot. What's your name? darshan\n",
      "Nice to meet you, darshan!\n",
      "How are you today? fine\n",
      "What's your favorite color? blue\n",
      "Do you like programming? yes\n",
      "Ask me a question: quit\n",
      "Here's what I remember from our conversation:\n",
      "User's name is darshan\n",
      "How are you today? fine\n",
      "What's your favorite color? blue\n",
      "Do you like programming? yes\n",
      "Goodbye, darshan! It was nice chatting with you.\n"
     ]
    }
   ],
   "source": [
    "class ChatBot:\n",
    "    def __init__(self):\n",
    "        self.user_name = \"\"\n",
    "        self.context = []\n",
    "\n",
    "    def greet(self):\n",
    "        self.user_name = input(\"Hello! I'm a chatbot. What's your name? \")\n",
    "        self.context.append(f\"User's name is {self.user_name}\")\n",
    "        print(f\"Nice to meet you, {self.user_name}!\")\n",
    "\n",
    "    def farewell(self):\n",
    "        print(f\"Goodbye, {self.user_name}! It was nice chatting with you.\")\n",
    "\n",
    "    def ask_questions(self):\n",
    "        questions = [\"How are you today? \", \"What's your favorite color? \", \"Do you like programming? \"]\n",
    "        for question in questions:\n",
    "            response = input(question)\n",
    "            self.context.append(f\"{question}{response}\")\n",
    "\n",
    "    def respond(self):\n",
    "        responses = {\n",
    "            \"how are you\": \"I'm a bot, so I don't have feelings, but I'm functioning as expected!\",\n",
    "            \"what is your name\": \"I'm a chatbot created for this project.\",\n",
    "            \"what is your purpose\": \"My purpose is to interact with users and provide information.\",\n",
    "            \"who created you\": \"I was created by a developer for this project.\",\n",
    "            \"do you like music\": \"As a bot, I don't have preferences, but I can find music information for you!\"\n",
    "        }\n",
    "        while True:\n",
    "            user_input = input(\"Ask me a question: \").lower()\n",
    "            if user_input == \"quit\":\n",
    "                break\n",
    "            elif user_input in responses:\n",
    "                print(responses[user_input])\n",
    "            else:\n",
    "                print(\"Sorry, I didn't understand that. Can you ask something else?\")\n",
    "                continue\n",
    "\n",
    "    def recall_context(self):\n",
    "        print(\"Here's what I remember from our conversation:\")\n",
    "        for memory in self.context:\n",
    "            print(memory)\n",
    "\n",
    "chatbot = ChatBot()\n",
    "chatbot.greet()\n",
    "chatbot.ask_questions()\n",
    "chatbot.respond()\n",
    "chatbot.recall_context()\n",
    "chatbot.farewell()\n"
   ]
  },
  {
   "cell_type": "code",
   "execution_count": null,
   "id": "6cba27df",
   "metadata": {},
   "outputs": [],
   "source": []
  }
 ],
 "metadata": {
  "kernelspec": {
   "display_name": "Python 3 (ipykernel)",
   "language": "python",
   "name": "python3"
  },
  "language_info": {
   "codemirror_mode": {
    "name": "ipython",
    "version": 3
   },
   "file_extension": ".py",
   "mimetype": "text/x-python",
   "name": "python",
   "nbconvert_exporter": "python",
   "pygments_lexer": "ipython3",
   "version": "3.10.9"
  }
 },
 "nbformat": 4,
 "nbformat_minor": 5
}
